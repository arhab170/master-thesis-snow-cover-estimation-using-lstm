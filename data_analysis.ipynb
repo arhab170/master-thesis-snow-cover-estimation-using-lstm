{
 "cells": [
  {
   "cell_type": "code",
   "execution_count": null,
   "id": "b645e046",
   "metadata": {},
   "outputs": [],
   "source": [
    "# for the WSL conda environment\n",
    "# 1. python kernel is named wslminiconda3 (Python 3.11.14)\n",
    "# 2. the environment is named base and is in the directory /home/arhab/wslminiconda3\n",
    "# 3. Do not use the python kernel named base"
   ]
  },
  {
   "cell_type": "code",
   "execution_count": null,
   "id": "5f459f2e",
   "metadata": {},
   "outputs": [],
   "source": [
    "import xarray as xr\n",
    "import pandas as pd\n",
    "import numpy as np\n",
    "import matplotlib.pyplot as plt\n",
    "# import geopandas as gpd\n",
    "# import hvplot.xarray\n",
    "import plotly.express as px"
   ]
  },
  {
   "cell_type": "code",
   "execution_count": null,
   "id": "40450855",
   "metadata": {},
   "outputs": [],
   "source": [
    "scenario_option = 0\n",
    "parameter_option = 5\n",
    "\n",
    "multiple_scenario = 1"
   ]
  },
  {
   "cell_type": "code",
   "execution_count": null,
   "metadata": {},
   "outputs": [],
   "source": [
    "presentation_type = \"daily_mean\" \n",
    "second_part=1\n",
    "# monthly_mean , daily_mean , \"daily_centre\""
   ]
  },
  {
   "cell_type": "code",
   "execution_count": null,
   "id": "0b474215",
   "metadata": {},
   "outputs": [],
   "source": [
    "if scenario_option == 0:\n",
    "    scenario = \"observational\"\n",
    "elif scenario_option ==1:\n",
    "    scenario = \"rcp26\"\n",
    "elif scenario_option ==2:\n",
    "    scenario = \"rcp45\"\n",
    "elif scenario_option ==3:\n",
    "    scenario = \"rcp85\"\n",
    "\n",
    "\n",
    "if parameter_option == 0:\n",
    "    parameter = \"tas\"\n",
    "elif parameter_option==1:\n",
    "    parameter=\"pr\"\n",
    "elif parameter_option==2:\n",
    "    parameter=\"hurs\"\n",
    "elif parameter_option==3:\n",
    "    parameter=\"psl\"\n",
    "elif parameter_option==4:\n",
    "    parameter=\"rsds\"\n",
    "elif parameter_option==5:\n",
    "    parameter=\"sfcWind\""
   ]
  },
  {
   "cell_type": "code",
   "execution_count": null,
   "metadata": {},
   "outputs": [],
   "source": [
    "if multiple_scenario ==1:\n",
    "    scenario=\"rcp26\"\n",
    "    \n",
    "input_file = rf'.\\cropped_data\\{scenario}\\{parameter}_{scenario}.nc'\n",
    "data = xr.open_mfdataset(input_file)"
   ]
  },
  {
   "cell_type": "code",
   "execution_count": null,
   "metadata": {},
   "outputs": [],
   "source": [
    "if multiple_scenario == 1:\n",
    "    # scenario=\"rcp45\"\n",
    "    input_file = rf'.\\cropped_data\\rcp45\\{parameter}_rcp45.nc'\n",
    "    data_rcp45 = xr.open_mfdataset(input_file)"
   ]
  },
  {
   "cell_type": "code",
   "execution_count": null,
   "metadata": {},
   "outputs": [],
   "source": [
    "if multiple_scenario == 1:\n",
    "    # scenario=\"rcp85\"\n",
    "    input_file = rf'.\\cropped_data\\rcp85\\{parameter}_rcp85.nc'\n",
    "    data_rcp85 = xr.open_mfdataset(input_file)\n"
   ]
  },
  {
   "cell_type": "code",
   "execution_count": null,
   "metadata": {},
   "outputs": [],
   "source": [
    "scenario2 = \"observational\"\n",
    "data_obs = xr.open_mfdataset(rf'.\\cropped_data\\{scenario2}\\{parameter}_{scenario2}.nc')\n",
    "\n",
    "if second_part==1:\n",
    "    start_date = '2011-01-01'\n",
    "    end_date = data_obs['time'].max()  # Get the maximum date in the 'time' coordinate\n",
    "    data_obs = data_obs.sel(time=slice(start_date, end_date))"
   ]
  },
  {
   "cell_type": "code",
   "execution_count": null,
   "metadata": {},
   "outputs": [],
   "source": [
    "data_rcp85"
   ]
  },
  {
   "cell_type": "code",
   "execution_count": null,
   "metadata": {},
   "outputs": [],
   "source": [
    "# data2_updated[parameter].isel(y=5, x=7).plot()\n",
    "# data[parameter].isel(y=5, x=7).plot()"
   ]
  },
  {
   "cell_type": "code",
   "execution_count": null,
   "metadata": {},
   "outputs": [],
   "source": [
    "rcp_time = data[\"time\"].values\n",
    "obs_time = data_obs[\"time\"].values\n",
    "\n",
    "min_length = min(len(rcp_time), len(obs_time))\n",
    "\n",
    "rcp_time=rcp_time[:min_length]\n",
    "obs_time=obs_time[:min_length]\n",
    "\n",
    "\n",
    "if presentation_type==\"monthly_mean\":\n",
    "    rcp = data[parameter].mean(dim=('y', 'x')).resample(time=\"1M\").mean(dim=\"time\").values\n",
    "    obs = data_obs[parameter].mean(dim=('y', 'x')).resample(time=\"1M\").mean(dim=\"time\").values\n",
    "\n",
    "    rcp_time = data[\"time\"].resample(time=\"1M\").mean().values\n",
    "    obs_time = data_obs[\"time\"].resample(time=\"1M\").mean().values\n",
    "    obs_time=obs_time[:len(rcp_time)]\n",
    "\n",
    "    if multiple_scenario==1:\n",
    "        array_rcp45 = data_rcp45[parameter].mean(dim=('y', 'x')).resample(time=\"1M\").mean(dim=\"time\").values\n",
    "        array_rcp85 = data_rcp85[parameter].mean(dim=('y', 'x')).resample(time=\"1M\").mean(dim=\"time\").values\n",
    "\n",
    "\n",
    "if presentation_type==\"daily_mean\":\n",
    "    rcp = data[parameter].mean(dim=('y', 'x')).values\n",
    "    obs = data_obs[parameter].mean(dim=('y', 'x')).values\n",
    "\n",
    "    if multiple_scenario==1:\n",
    "        array_rcp45 = data_rcp45[parameter].mean(dim=('y', 'x')).values\n",
    "        array_rcp85 = data_rcp85[parameter].mean(dim=('y', 'x')).values\n",
    "\n",
    "\n",
    "if presentation_type==\"daily_centre\":\n",
    "    rcp = data[parameter].isel(y=5, x=7).values\n",
    "    obs = data_obs[parameter].isel(y=5, x=7).values\n",
    "\n",
    "    if multiple_scenario==1:\n",
    "        array_rcp45 = data_rcp45[parameter].isel(y=5, x=7).values\n",
    "        array_rcp85 = data_rcp85[parameter].isel(y=5, x=7).values"
   ]
  },
  {
   "cell_type": "code",
   "execution_count": null,
   "metadata": {},
   "outputs": [],
   "source": [
    "# time_df = pd.DataFrame(\n",
    "#     {\"rcp_time\" : rcp_time,\n",
    "#      \"obs_time\" : obs_time })\n",
    "# time_df"
   ]
  },
  {
   "cell_type": "code",
   "execution_count": null,
   "metadata": {},
   "outputs": [],
   "source": [
    "rcp = rcp.flatten()\n",
    "obs = obs.flatten()\n",
    "\n",
    "min_length = min(len(rcp), len(obs))\n",
    "\n",
    "rcp = rcp[:min_length]\n",
    "obs = obs[:min_length]\n",
    "\n",
    "if multiple_scenario==1:\n",
    "    array_rcp45 = array_rcp45[:min_length]\n",
    "    array_rcp85 = array_rcp85[:min_length]\n",
    "\n",
    "print(rcp.shape)\n",
    "print(obs.shape)"
   ]
  },
  {
   "cell_type": "code",
   "execution_count": null,
   "metadata": {},
   "outputs": [],
   "source": [
    "dict_temp = {\n",
    "    \"obs_time\" : obs_time,\n",
    "    \"rcp_time\" : rcp_time,\n",
    "    \"obs\": obs,\n",
    "    \"rcp\": rcp}\n",
    "\n",
    "if multiple_scenario==1:\n",
    "    dict_temp = {\n",
    "    \"obs_time\" : obs_time,\n",
    "    \"rcp_time\" : rcp_time,\n",
    "    \"obs\": obs,\n",
    "    \"rcp26\": rcp,\n",
    "    \"rcp45\": array_rcp45,\n",
    "    \"rcp85\": array_rcp85\n",
    "    }\n",
    "\n",
    "# Create the DataFrame\n",
    "df = pd.DataFrame(dict_temp)"
   ]
  },
  {
   "cell_type": "code",
   "execution_count": null,
   "metadata": {},
   "outputs": [],
   "source": [
    "# import plotly.express as px\n",
    "# fig = px.line(df, x= \"rcp_time\", y=[\"obs\", \"rcp26\", \"rcp45\", \"rcp85\"])\n",
    "# fig.update_layout(title=f'{parameter} | Total points: {len(df)} | {presentation_type} | {scenario} vs {scenario2}')\n",
    "# fig"
   ]
  },
  {
   "cell_type": "code",
   "execution_count": null,
   "metadata": {},
   "outputs": [],
   "source": [
    "# fig = px.scatter(df, x= \"rcp_time\", y=[\"rcp\", \"obs\"])\n",
    "# fig.update_layout(title=f'{parameter} | Total points: {len(df)} | {presentation_type} | {scenario} vs {scenario2}')\n",
    "# fig"
   ]
  },
  {
   "cell_type": "code",
   "execution_count": null,
   "metadata": {},
   "outputs": [],
   "source": [
    "# import matplotlib.pyplot as plt\n",
    "# import pandas as pd\n",
    "\n",
    "# small_size=14\n",
    "# big_size=16\n",
    "\n",
    "# # Create figure and axes with a specific size\n",
    "# fig, ax1 = plt.subplots(figsize=(30, 6))\n",
    "\n",
    "# # Plot data on the first axis\n",
    "# line1, = ax1.plot(df[\"rcp_time\"], df[f'{scenario}'], 'b-', label=f'{scenario}')\n",
    "# ax1.set_xlabel(f'Date {scenario}', color=\"b\", fontsize=small_size)  # Adjust fontsize here\n",
    "# ax1.set_ylabel(f'{parameter}', fontsize=big_size)  # Adjust fontsize here\n",
    "# ax1.tick_params(axis='x', colors='b', labelsize=small_size)  # Adjust fontsize here for x-axis ticks\n",
    "# ax1.tick_params(axis='y', labelsize=small_size)  # Adjust fontsize here for x-axis ticks\n",
    "\n",
    "# # Create a second x-axis\n",
    "# ax2 = ax1.twiny()\n",
    "\n",
    "# # Plot data on the second axis\n",
    "# line2, = ax2.plot(df[\"obs_time\"], df[\"obs\"], 'r-', label=f'{scenario2}')\n",
    "# ax2.set_xlabel(f'Date {scenario2}', color=\"r\", fontsize=small_size)  # Adjust fontsize here\n",
    "# ax2.tick_params(axis='x', colors='r', labelsize=small_size)  # Adjust fontsize here for x-axis ticks\n",
    "\n",
    "# if multiple_scenario==1:\n",
    "#     ax3 = ax1.twiny()\n",
    "\n",
    "#     # Plot data on the second axis\n",
    "#     line3, = ax3.plot(df[\"rcp_time\"], df[\"rcp45\"], 'yellow', label='rcp45')\n",
    "#     ax3.set_xlabel(f'Date rcp45', color=\"yellow\", fontsize=small_size)  # Adjust fontsize here\n",
    "#     ax3.tick_params(axis='x', colors='yellow', labelsize=small_size)  # Adjust fontsize here for x-axis ticks\n",
    "\n",
    "#     ax4 = ax1.twiny()\n",
    "\n",
    "#     # Plot data on the second axis\n",
    "#     line4, = ax4.plot(df[\"rcp_time\"], df[\"rcp85\"], 'green', label='rcp85')\n",
    "#     ax4.set_xlabel(f'Date rcp85', color=\"green\", fontsize=small_size)  # Adjust fontsize here\n",
    "#     ax4.tick_params(axis='x', colors='green', labelsize=small_size)  # Adjust fontsize here for x-axis ticks\n",
    "\n",
    "\n",
    "# # Plot data on the second axis\n",
    "# line2, = ax2.plot(df[\"obs_time\"], df[\"obs\"], 'r-', label=f'{scenario2}')\n",
    "# ax2.set_xlabel(f'Date {scenario2}', color=\"r\", fontsize=small_size)  # Adjust fontsize here\n",
    "# ax2.tick_params(axis='x', colors='r', labelsize=small_size)  # Adjust fontsize here for x-axis ticks\n",
    "\n",
    "\n",
    "\n",
    "# # Adding legends for both plots at upper right\n",
    "# ax1.legend([line1], [f'{scenario}'], loc='upper right', bbox_to_anchor=(1, 1), fancybox=True, shadow=True, ncol=1, fontsize=small_size)  # Adjust fontsize here\n",
    "# ax2.legend([line2], [f'{scenario2}'], loc='upper right', bbox_to_anchor=(1, 0.92), fancybox=True, shadow=True, ncol=1, fontsize=small_size)  # Adjust fontsize here\n",
    "\n",
    "# plt.tight_layout()\n",
    "# plt.title(f'{parameter} | Total points: {len(df)} | {presentation_type} | {scenario} vs {scenario2}', fontsize=big_size)\n",
    "# plt.show()\n"
   ]
  },
  {
   "cell_type": "code",
   "execution_count": null,
   "metadata": {},
   "outputs": [],
   "source": [
    "import plotly.graph_objects as go\n",
    "import plotly.io as pio\n",
    "\n",
    "# Creating subplots\n",
    "fig = go.Figure()\n",
    "\n",
    "# Adding rcp26, rcp45, rcp85 data to the subplot\n",
    "for col in ['rcp26', 'rcp45', 'rcp85']:\n",
    "    fig.add_trace(go.Scatter(x=df['rcp_time'], y=df[col], mode='lines', name=col))\n",
    "\n",
    "# Adding obs data to the subplot with a separate x-axis\n",
    "fig.add_trace(go.Scatter(x=df['obs_time'], y=df['obs'], mode='lines', name='obs', xaxis='x2'))\n",
    "\n",
    "# Define layout for subplot with two x-axes\n",
    "fig.update_layout(\n",
    "    xaxis=dict(title='rcp_time'),\n",
    "    xaxis2=dict(title='obs_time', overlaying='x', side='top'),\n",
    "    yaxis=dict(title=f'{parameter}'),\n",
    "    title='Title'\n",
    ")\n",
    "fig.update_layout(title=f'{parameter} | Total points: {len(df)} | {presentation_type}')\n",
    "fig.show()\n",
    "\n",
    "pio.write_image(fig, rf'D:\\thesis_data\\notebooks\\images\\all_four_{parameter}_{presentation_type}.png', width=1800, height=600)\n",
    "\n"
   ]
  },
  {
   "cell_type": "code",
   "execution_count": null,
   "metadata": {},
   "outputs": [],
   "source": []
  }
 ],
 "metadata": {
  "kernelspec": {
   "display_name": "Python 3",
   "language": "python",
   "name": "python3"
  },
  "language_info": {
   "codemirror_mode": {
    "name": "ipython",
    "version": 3
   },
   "file_extension": ".py",
   "mimetype": "text/x-python",
   "name": "python",
   "nbconvert_exporter": "python",
   "pygments_lexer": "ipython3",
   "version": "3.9.18"
  }
 },
 "nbformat": 4,
 "nbformat_minor": 5
}
