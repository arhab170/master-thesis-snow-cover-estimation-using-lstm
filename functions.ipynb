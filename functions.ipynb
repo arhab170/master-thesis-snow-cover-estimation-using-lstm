{
 "cells": [
  {
   "cell_type": "code",
   "execution_count": null,
   "metadata": {},
   "outputs": [],
   "source": [
    "def remove_eta_lines(run_number):\n",
    "    input_file_path = f'D:\\\\thesis_data\\\\notebooks\\\\model_runs\\\\{run_number}\\\\log.txt'\n",
    "    \n",
    "    with open(input_file_path, 'r') as f:\n",
    "        lines = f.readlines()\n",
    "\n",
    "    # Filter out lines containing \"- ETA: \"\n",
    "    lines = [line for line in lines if \"- ETA: \" not in line]\n",
    "\n",
    "    # Save the modified content back to the same file\n",
    "    with open(input_file_path, 'w') as f:\n",
    "        f.writelines(lines)"
   ]
  },
  {
   "cell_type": "code",
   "execution_count": null,
   "metadata": {},
   "outputs": [],
   "source": [
    "def divide_range(a, b, x):\n",
    "    x = x+1\n",
    "    a = a -0.01\n",
    "    b = b + 0.01\n",
    "\n",
    "    if round(a,0) == 46:\n",
    "        if x > 11:\n",
    "            x = 11\n",
    "            print(\"Warning: 10 is the highest number of divisions possible for latitudes. So the number of divsions is set to maximum that is 10.\")\n",
    "    \n",
    "    if round(a,0)==10:\n",
    "        if x > 15:\n",
    "            x = 15\n",
    "            print(\"Warning: 14 is the highest number of divisions possible for longitudes. So the number of divsions is set to maximum that is 14.\")\n",
    "\n",
    "    if x < 2:\n",
    "        raise ValueError(\"Number of divisions must be at least 2\")\n",
    "\n",
    "    step = (b - a) / (x - 1)  # Calculate the step size for equal divisions\n",
    "    result = [round(a + i * step, 2) for i in range(x)]\n",
    "\n",
    "    return result"
   ]
  },
  {
   "cell_type": "code",
   "execution_count": null,
   "metadata": {},
   "outputs": [],
   "source": [
    "def pad_month_fraction_array(month_fraction_array):\n",
    "    # Define the indices where 1 should be added\n",
    "    indices_to_pad = [0, 1, 2, 11]\n",
    "    \n",
    "    # Create the padded array by inserting 1 at specified indices\n",
    "    month_fraction_array_padded = month_fraction_array.copy()\n",
    "    for idx in indices_to_pad:\n",
    "        month_fraction_array_padded.insert(idx, 1)\n",
    "    \n",
    "    return month_fraction_array_padded"
   ]
  },
  {
   "cell_type": "code",
   "execution_count": null,
   "metadata": {},
   "outputs": [],
   "source": [
    "def get_dates(ndsi_ds):\n",
    "    time_ndsi = ndsi_ds[\"time\"].values\n",
    "    df_time = pd.DataFrame({\"date\": time_ndsi})\n",
    "    df_time[[\"date\"]]= df_time[['date']].astype(str)\n",
    "    df_time['date'] = pd.to_datetime(df_time['date'])\n",
    "    df_time['date'] = df_time['date'] + pd.Timedelta(hours=12)\n",
    "    selected_dates = df_time['date'].values\n",
    "    return selected_dates\n"
   ]
  },
  {
   "cell_type": "code",
   "execution_count": null,
   "metadata": {},
   "outputs": [],
   "source": [
    "def get_filtered_dates_for_ndsi(percentage_limit=0.35, pixel_interpolation_limit=50):\n",
    "    nan_interpolation_df = pd.read_csv(r\"D:\\thesis_data\\random_csv_output\\number_of_nans_and_interpolations_for_each_date.csv\")\n",
    "    nan_interpolation_df = nan_interpolation_df.iloc[:,1:] \n",
    "\n",
    "    nan_interpolation_df[\"Number of original pixels\"] = 140 - nan_interpolation_df[\"Number of NaNs\"]\n",
    "    nan_interpolation_df['Number of interpolations done'] = nan_interpolation_df[\"Number of NaNs\"] - nan_interpolation_df[\"Number of NaNs after interpolation\"]\n",
    "    nan_interpolation_df['Percentage to original'] = nan_interpolation_df[\"Number of interpolations done\"]/(140 - nan_interpolation_df[\"Number of NaNs\"])\n",
    "    \n",
    "    nan_interpolation_df[\"check\"] = np.where((nan_interpolation_df[\"Number of interpolations done\"]) >= pixel_interpolation_limit, 1, 0 )\n",
    "    nan_interpolation_df[\"check2\"] = np.where((nan_interpolation_df[\"Percentage to original\"]) >= percentage_limit, 1, 0 )\n",
    "\n",
    "    nan_interpolation_df_filtered = nan_interpolation_df[(nan_interpolation_df[\"check\"] == 0) & (nan_interpolation_df[\"check2\"] == 0)]\n",
    "    return nan_interpolation_df_filtered[\"Date\"].values, nan_interpolation_df"
   ]
  },
  {
   "cell_type": "code",
   "execution_count": null,
   "metadata": {},
   "outputs": [],
   "source": [
    "\n",
    "    \n",
    "def to_array(data, index_climate_parameter):\n",
    "    array = []\n",
    "    n_time_steps = data[0].shape[0]\n",
    "    n_lat, n_lon = data[0].shape[1], data[0].shape[2]\n",
    "    data1 = data[index_climate_parameter]\n",
    "    for b in range(n_time_steps):\n",
    "        data2=data1[b]\n",
    "        for c in range(n_lat):\n",
    "            data3=data2[c]\n",
    "            for d in range(n_lon):\n",
    "                data4=data3[d]\n",
    "                array.append(data4)\n",
    "    array = np.array(array)\n",
    "    return array\n"
   ]
  },
  {
   "cell_type": "code",
   "execution_count": null,
   "metadata": {},
   "outputs": [],
   "source": [
    "def get_min_max(df, parameter_name):\n",
    "    param_data = df[df['parameter'] == parameter_name]\n",
    "    if not param_data.empty:\n",
    "        min_val = param_data['min'].values[0]\n",
    "        max_val = param_data['max'].values[0]\n",
    "        return min_val, max_val\n",
    "    else:\n",
    "        return None, None "
   ]
  },
  {
   "cell_type": "code",
   "execution_count": null,
   "metadata": {},
   "outputs": [],
   "source": [
    "\n",
    "def to_array_ndsi(data):\n",
    "    array = []\n",
    "    n_time_steps = data.shape[0]\n",
    "    n_lat, n_lon = data.shape[1], data.shape[2]\n",
    "    data1 = data\n",
    "    for b in range(n_time_steps):\n",
    "        data2=data1[b]\n",
    "        for c in range(n_lat):\n",
    "            data3=data2[c]\n",
    "            for d in range(n_lon):\n",
    "                data4=data3[d]\n",
    "                array.append(data4)\n",
    "    array = np.array(array)\n",
    "    return array"
   ]
  },
  {
   "cell_type": "code",
   "execution_count": null,
   "metadata": {},
   "outputs": [],
   "source": [
    "import math\n",
    "\n",
    "def self_defineed_r2(y_test, y_pred):\n",
    "    mean_true = np.mean(y_test)\n",
    "    mean_pred = np.mean(y_pred)\n",
    "    numerator = np.sum((y_test - mean_true)*(y_pred-mean_pred))\n",
    "    denominator1 = math.sqrt(np.sum((y_test - mean_true)**2))\n",
    "    denominator2 = math.sqrt(np.sum((y_pred - mean_pred)**2))\n",
    "\n",
    "    self_defined_r2 =  (numerator/(denominator1*denominator2))**2\n",
    "    return self_defined_r2"
   ]
  },
  {
   "cell_type": "code",
   "execution_count": 1,
   "metadata": {},
   "outputs": [],
   "source": [
    "def pbias(y_test, y_pred):\n",
    "    num = np.sum(y_test - y_pred)\n",
    "    denom = np.sum(y_test)\n",
    "    return num*100/denom\n"
   ]
  },
  {
   "cell_type": "code",
   "execution_count": null,
   "metadata": {},
   "outputs": [],
   "source": [
    "def nse(y_pred, y_test):\n",
    "    mean_observed = np.mean(y_test)\n",
    "    numerator = np.sum((y_test - y_pred)**2)\n",
    "    denominator = np.sum((y_test - mean_observed)**2)\n",
    "    nse_value = 1 - (numerator / denominator)\n",
    "    return nse_value"
   ]
  },
  {
   "cell_type": "code",
   "execution_count": null,
   "metadata": {},
   "outputs": [],
   "source": [
    "def calculate_n_rmse(y_true, y_pred):\n",
    "    rmse = np.sqrt(np.mean((y_true - y_pred)**2))\n",
    "    mean_true = np.mean(y_test)\n",
    "    n_rmse = rmse / mean_true\n",
    "    return n_rmse"
   ]
  }
 ],
 "metadata": {
  "kernelspec": {
   "display_name": "xarray-tutorial",
   "language": "python",
   "name": "python3"
  },
  "language_info": {
   "codemirror_mode": {
    "name": "ipython",
    "version": 3
   },
   "file_extension": ".py",
   "mimetype": "text/x-python",
   "name": "python",
   "nbconvert_exporter": "python",
   "pygments_lexer": "ipython3",
   "version": "3.9.18"
  }
 },
 "nbformat": 4,
 "nbformat_minor": 2
}
