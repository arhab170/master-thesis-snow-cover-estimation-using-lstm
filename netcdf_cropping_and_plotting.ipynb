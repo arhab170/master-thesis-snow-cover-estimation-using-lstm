{
 "cells": [
  {
   "cell_type": "code",
   "execution_count": null,
   "id": "b645e046",
   "metadata": {},
   "outputs": [],
   "source": [
    "# for the WSL conda environment\n",
    "# 1. python kernel is named wslminiconda3 (Python 3.11.14)\n",
    "# 2. the environment is named base and is in the directory /home/arhab/wslminiconda3\n",
    "# 3. Do not use the python kernel named base"
   ]
  },
  {
   "cell_type": "code",
   "execution_count": null,
   "id": "5f459f2e",
   "metadata": {},
   "outputs": [],
   "source": [
    "import xarray as xr\n",
    "import pandas as pd\n",
    "import numpy as np\n",
    "import matplotlib.pyplot as plt\n",
    "# import geopandas as gpd\n",
    "# from ftplib import FTP\n",
    "# import hvplot.xarray\n",
    "import plotly.express as px"
   ]
  },
  {
   "cell_type": "code",
   "execution_count": null,
   "id": "40450855",
   "metadata": {},
   "outputs": [],
   "source": [
    "scenario_option = 0\n",
    "parameter_option = 5\n",
    "\n",
    "multiple_scenario = 1"
   ]
  },
  {
   "cell_type": "code",
   "execution_count": null,
   "metadata": {},
   "outputs": [],
   "source": [
    "presentation_type = \"daily_mean\" \n",
    "second_part=1\n",
    "# monthly_mean , daily_mean , \"daily_centre\""
   ]
  },
  {
   "cell_type": "code",
   "execution_count": null,
   "id": "0b474215",
   "metadata": {},
   "outputs": [],
   "source": [
    "if scenario_option == 0:\n",
    "    scenario = \"observational\"\n",
    "elif scenario_option ==1:\n",
    "    scenario = \"rcp26\"\n",
    "elif scenario_option ==2:\n",
    "    scenario = \"rcp45\"\n",
    "elif scenario_option ==3:\n",
    "    scenario = \"rcp85\"\n",
    "\n",
    "\n",
    "if parameter_option == 0:\n",
    "    parameter = \"tas\"\n",
    "elif parameter_option==1:\n",
    "    parameter=\"pr\"\n",
    "elif parameter_option==2:\n",
    "    parameter=\"huss\"\n",
    "elif parameter_option==3:\n",
    "    parameter=\"rlds\"\n",
    "elif parameter_option==4:\n",
    "    parameter=\"rsds\"\n",
    "elif parameter_option==5:\n",
    "    parameter=\"sfcWind\""
   ]
  },
  {
   "cell_type": "code",
   "execution_count": null,
   "id": "f92679cd",
   "metadata": {},
   "outputs": [],
   "source": [
    "# parameter_array = [\"tas\", \"pr\", \"huss\", \"rlds\",  \"rsds\", \"sfcWind\"]\n",
    "# # parameter_array = [\"sfcWind\"]\n",
    "# # parameter_array = [parameter]\n",
    "\n",
    "# for parameter in parameter_array:\n",
    "#     if scenario==\"observational\":\n",
    "#         data = xr.open_mfdataset(rf\"D:\\thesis_data\\new_cordex_data\\{scenario}\\{parameter}_EUR-11_ECMWF-ERAINT_{scenario}_r1i1p1_CNRM-ALADIN63_v1_day_*.nc\")\n",
    "#     else:\n",
    "#         data = xr.open_mfdataset(rf\"D:\\thesis_data\\new_cordex_data\\{scenario}\\{parameter}_EUR-11_CNRM-CERFACS-CNRM-CM5_{scenario}_r1i1p1_CNRM-ALADIN63_v2_day_*.nc\")\n",
    "    \n",
    "#     data= data.where((data.lon>10.1).compute() & (data.lon<12.4).compute() & (data.lat>46.1).compute() & (data.lat<47.2).compute(), drop=True)\n",
    "\n",
    "#     data = data[parameter]\n",
    "#     # Assuming data2 is your xarray.Dataset\n",
    "#     new_x_values = xr.DataArray([10.17544839, 10.33772344, 10.5 , 10.66227656, 10.82455161, 10.98682366, 11.14909118, 11.31135269, 11.47360667, 11.63585162, 11.79808604, 11.96030843, 12.12251727, 12.28471108],  dims=['x'])\n",
    "#     new_y_values = xr.DataArray([46.12945789, 46.24168478, 46.3539238 , 46.46617454, 46.57843659, 46.69070955, 46.80299301, 46.91528657, 47.02758981, 47.13990233], dims=['y'])\n",
    "\n",
    "#     # Create a new dataset with the modified 'y' values\n",
    "#     data = data.assign_coords(x=new_x_values)\n",
    "#     data = data.assign_coords(y=new_y_values)\n",
    "\n",
    "#     output_file = rf'D:\\thesis_data\\new_cordex_data\\{scenario}\\cropped_data\\{parameter}_{scenario}.nc'\n",
    "#     data.to_netcdf(output_file, format='NETCDF4', engine='netcdf4')\n",
    "#     print(f\"Done {parameter}\")\n"
   ]
  },
  {
   "cell_type": "code",
   "execution_count": null,
   "metadata": {},
   "outputs": [],
   "source": [
    "if multiple_scenario ==1:\n",
    "    scenario=\"rcp26\"\n",
    "    \n",
    "input_file = rf'.\\cropped_data\\{scenario}\\{parameter}_{scenario}.nc'\n",
    "data = xr.open_mfdataset(input_file)"
   ]
  },
  {
   "cell_type": "code",
   "execution_count": null,
   "metadata": {},
   "outputs": [],
   "source": [
    "if multiple_scenario == 1:\n",
    "    # scenario=\"rcp45\"\n",
    "    input_file = rf'.\\cropped_data\\rcp45\\{parameter}_rcp45.nc'\n",
    "    data_rcp45 = xr.open_mfdataset(input_file)"
   ]
  },
  {
   "cell_type": "code",
   "execution_count": null,
   "metadata": {},
   "outputs": [],
   "source": [
    "if multiple_scenario == 1:\n",
    "    # scenario=\"rcp85\"\n",
    "    input_file = rf'.\\cropped_data\\rcp85\\{parameter}_rcp85.nc'\n",
    "    data_rcp85 = xr.open_mfdataset(input_file)\n"
   ]
  },
  {
   "cell_type": "code",
   "execution_count": null,
   "metadata": {},
   "outputs": [],
   "source": [
    "scenario2 = \"observational\"\n",
    "data_hist = xr.open_mfdataset(rf'.\\cropped_data\\{scenario2}\\{parameter}_{scenario2}.nc')\n",
    "data_hist_check = data_hist[parameter] * 0.5\n",
    "\n",
    "if second_part==1:\n",
    "    start_date = '2011-01-01'\n",
    "    end_date = data_hist['time'].max()  # Get the maximum date in the 'time' coordinate\n",
    "    data_hist = data_hist.sel(time=slice(start_date, end_date))"
   ]
  },
  {
   "cell_type": "code",
   "execution_count": null,
   "metadata": {},
   "outputs": [],
   "source": [
    "data_rcp85"
   ]
  },
  {
   "cell_type": "code",
   "execution_count": null,
   "metadata": {},
   "outputs": [],
   "source": [
    "# data2_updated[parameter].isel(y=5, x=7).plot()\n",
    "# data[parameter].isel(y=5, x=7).plot()"
   ]
  },
  {
   "cell_type": "code",
   "execution_count": null,
   "metadata": {},
   "outputs": [],
   "source": [
    "rcp_time = data[\"time\"].values\n",
    "hist_time = data_hist[\"time\"].values\n",
    "\n",
    "min_length = min(len(rcp_time), len(hist_time))\n",
    "\n",
    "rcp_time=rcp_time[:min_length]\n",
    "hist_time=hist_time[:min_length]\n",
    "\n",
    "\n",
    "if presentation_type==\"monthly_mean\":\n",
    "    rcp = data[parameter].mean(dim=('y', 'x')).resample(time=\"1M\").mean(dim=\"time\").values\n",
    "    hist = data_hist[parameter].mean(dim=('y', 'x')).resample(time=\"1M\").mean(dim=\"time\").values\n",
    "\n",
    "    rcp_time = data[\"time\"].resample(time=\"1M\").mean().values\n",
    "    hist_time = data_hist[\"time\"].resample(time=\"1M\").mean().values\n",
    "    hist_time=hist_time[:len(rcp_time)]\n",
    "\n",
    "    if multiple_scenario==1:\n",
    "        array_rcp45 = data_rcp45[parameter].mean(dim=('y', 'x')).resample(time=\"1M\").mean(dim=\"time\").values\n",
    "        array_rcp85 = data_rcp85[parameter].mean(dim=('y', 'x')).resample(time=\"1M\").mean(dim=\"time\").values\n",
    "\n",
    "\n",
    "if presentation_type==\"daily_mean\":\n",
    "    rcp = data[parameter].mean(dim=('y', 'x')).values\n",
    "    hist = data_hist[parameter].mean(dim=('y', 'x')).values\n",
    "\n",
    "    if multiple_scenario==1:\n",
    "        array_rcp45 = data_rcp45[parameter].mean(dim=('y', 'x')).values\n",
    "        array_rcp85 = data_rcp85[parameter].mean(dim=('y', 'x')).values\n",
    "\n",
    "\n",
    "if presentation_type==\"daily_centre\":\n",
    "    rcp = data[parameter].isel(y=5, x=7).values\n",
    "    hist = data_hist[parameter].isel(y=5, x=7).values\n",
    "\n",
    "    if multiple_scenario==1:\n",
    "        array_rcp45 = data_rcp45[parameter].isel(y=5, x=7).values\n",
    "        array_rcp85 = data_rcp85[parameter].isel(y=5, x=7).values"
   ]
  },
  {
   "cell_type": "code",
   "execution_count": null,
   "metadata": {},
   "outputs": [],
   "source": [
    "# time_df = pd.DataFrame(\n",
    "#     {\"rcp_time\" : rcp_time,\n",
    "#      \"hist_time\" : hist_time })\n",
    "# time_df"
   ]
  },
  {
   "cell_type": "code",
   "execution_count": null,
   "metadata": {},
   "outputs": [],
   "source": [
    "rcp = rcp.flatten()\n",
    "hist = hist.flatten()\n",
    "\n",
    "min_length = min(len(rcp), len(hist))\n",
    "\n",
    "rcp = rcp[:min_length]\n",
    "hist = hist[:min_length]\n",
    "\n",
    "if multiple_scenario==1:\n",
    "    array_rcp45 = array_rcp45[:min_length]\n",
    "    array_rcp85 = array_rcp85[:min_length]\n",
    "\n",
    "print(rcp.shape)\n",
    "print(hist.shape)"
   ]
  },
  {
   "cell_type": "code",
   "execution_count": null,
   "metadata": {},
   "outputs": [],
   "source": [
    "dict_temp = {\n",
    "    \"hist_time\" : hist_time,\n",
    "    \"rcp_time\" : rcp_time,\n",
    "    \"hist\": hist,\n",
    "    \"rcp\": rcp}\n",
    "\n",
    "if multiple_scenario==1:\n",
    "    dict_temp = {\n",
    "    \"hist_time\" : hist_time,\n",
    "    \"rcp_time\" : rcp_time,\n",
    "    \"hist\": hist,\n",
    "    \"rcp26\": rcp,\n",
    "    \"rcp45\": array_rcp45,\n",
    "    \"rcp85\": array_rcp85\n",
    "    }\n",
    "\n",
    "# Create the DataFrame\n",
    "df = pd.DataFrame(dict_temp)"
   ]
  },
  {
   "cell_type": "code",
   "execution_count": null,
   "metadata": {},
   "outputs": [],
   "source": [
    "# import plotly.express as px\n",
    "# fig = px.line(df, x= \"rcp_time\", y=[\"hist\", \"rcp26\", \"rcp45\", \"rcp85\"])\n",
    "# fig.update_layout(title=f'{parameter} | Total points: {len(df)} | {presentation_type} | {scenario} vs {scenario2}')\n",
    "# fig"
   ]
  },
  {
   "cell_type": "code",
   "execution_count": null,
   "metadata": {},
   "outputs": [],
   "source": [
    "# fig = px.scatter(df, x= \"rcp_time\", y=[\"rcp\", \"hist\"])\n",
    "# fig.update_layout(title=f'{parameter} | Total points: {len(df)} | {presentation_type} | {scenario} vs {scenario2}')\n",
    "# fig"
   ]
  },
  {
   "cell_type": "code",
   "execution_count": null,
   "metadata": {},
   "outputs": [],
   "source": [
    "# import matplotlib.pyplot as plt\n",
    "# import pandas as pd\n",
    "\n",
    "# small_size=14\n",
    "# big_size=16\n",
    "\n",
    "# # Create figure and axes with a specific size\n",
    "# fig, ax1 = plt.subplots(figsize=(30, 6))\n",
    "\n",
    "# # Plot data on the first axis\n",
    "# line1, = ax1.plot(df[\"rcp_time\"], df[f'{scenario}'], 'b-', label=f'{scenario}')\n",
    "# ax1.set_xlabel(f'Date {scenario}', color=\"b\", fontsize=small_size)  # Adjust fontsize here\n",
    "# ax1.set_ylabel(f'{parameter}', fontsize=big_size)  # Adjust fontsize here\n",
    "# ax1.tick_params(axis='x', colors='b', labelsize=small_size)  # Adjust fontsize here for x-axis ticks\n",
    "# ax1.tick_params(axis='y', labelsize=small_size)  # Adjust fontsize here for x-axis ticks\n",
    "\n",
    "# # Create a second x-axis\n",
    "# ax2 = ax1.twiny()\n",
    "\n",
    "# # Plot data on the second axis\n",
    "# line2, = ax2.plot(df[\"hist_time\"], df[\"hist\"], 'r-', label=f'{scenario2}')\n",
    "# ax2.set_xlabel(f'Date {scenario2}', color=\"r\", fontsize=small_size)  # Adjust fontsize here\n",
    "# ax2.tick_params(axis='x', colors='r', labelsize=small_size)  # Adjust fontsize here for x-axis ticks\n",
    "\n",
    "# if multiple_scenario==1:\n",
    "#     ax3 = ax1.twiny()\n",
    "\n",
    "#     # Plot data on the second axis\n",
    "#     line3, = ax3.plot(df[\"rcp_time\"], df[\"rcp45\"], 'yellow', label='rcp45')\n",
    "#     ax3.set_xlabel(f'Date rcp45', color=\"yellow\", fontsize=small_size)  # Adjust fontsize here\n",
    "#     ax3.tick_params(axis='x', colors='yellow', labelsize=small_size)  # Adjust fontsize here for x-axis ticks\n",
    "\n",
    "#     ax4 = ax1.twiny()\n",
    "\n",
    "#     # Plot data on the second axis\n",
    "#     line4, = ax4.plot(df[\"rcp_time\"], df[\"rcp85\"], 'green', label='rcp85')\n",
    "#     ax4.set_xlabel(f'Date rcp85', color=\"green\", fontsize=small_size)  # Adjust fontsize here\n",
    "#     ax4.tick_params(axis='x', colors='green', labelsize=small_size)  # Adjust fontsize here for x-axis ticks\n",
    "\n",
    "\n",
    "# # Plot data on the second axis\n",
    "# line2, = ax2.plot(df[\"hist_time\"], df[\"hist\"], 'r-', label=f'{scenario2}')\n",
    "# ax2.set_xlabel(f'Date {scenario2}', color=\"r\", fontsize=small_size)  # Adjust fontsize here\n",
    "# ax2.tick_params(axis='x', colors='r', labelsize=small_size)  # Adjust fontsize here for x-axis ticks\n",
    "\n",
    "\n",
    "\n",
    "# # Adding legends for both plots at upper right\n",
    "# ax1.legend([line1], [f'{scenario}'], loc='upper right', bbox_to_anchor=(1, 1), fancybox=True, shadow=True, ncol=1, fontsize=small_size)  # Adjust fontsize here\n",
    "# ax2.legend([line2], [f'{scenario2}'], loc='upper right', bbox_to_anchor=(1, 0.92), fancybox=True, shadow=True, ncol=1, fontsize=small_size)  # Adjust fontsize here\n",
    "\n",
    "# plt.tight_layout()\n",
    "# plt.title(f'{parameter} | Total points: {len(df)} | {presentation_type} | {scenario} vs {scenario2}', fontsize=big_size)\n",
    "# plt.show()\n"
   ]
  },
  {
   "cell_type": "code",
   "execution_count": null,
   "metadata": {},
   "outputs": [],
   "source": [
    "import plotly.graph_objects as go\n",
    "import plotly.io as pio\n",
    "\n",
    "# Creating subplots\n",
    "fig = go.Figure()\n",
    "\n",
    "# Adding rcp26, rcp45, rcp85 data to the subplot\n",
    "for col in ['rcp26', 'rcp45', 'rcp85']:\n",
    "    fig.add_trace(go.Scatter(x=df['rcp_time'], y=df[col], mode='lines', name=col))\n",
    "\n",
    "# Adding hist data to the subplot with a separate x-axis\n",
    "fig.add_trace(go.Scatter(x=df['hist_time'], y=df['hist'], mode='lines', name='hist', xaxis='x2'))\n",
    "\n",
    "# Define layout for subplot with two x-axes\n",
    "fig.update_layout(\n",
    "    xaxis=dict(title='rcp_time'),\n",
    "    xaxis2=dict(title='hist_time', overlaying='x', side='top'),\n",
    "    yaxis=dict(title=f'{parameter}'),\n",
    "    title='Title'\n",
    ")\n",
    "fig.update_layout(title=f'{parameter} | Total points: {len(df)} | {presentation_type}')\n",
    "fig.show()\n",
    "\n",
    "pio.write_image(fig, rf'D:\\thesis_data\\notebooks\\images\\all_four_{parameter}_{presentation_type}.png', width=1800, height=600)\n",
    "\n"
   ]
  },
  {
   "cell_type": "code",
   "execution_count": null,
   "metadata": {},
   "outputs": [],
   "source": []
  }
 ],
 "metadata": {
  "kernelspec": {
   "display_name": "Python 3",
   "language": "python",
   "name": "python3"
  },
  "language_info": {
   "codemirror_mode": {
    "name": "ipython",
    "version": 3
   },
   "file_extension": ".py",
   "mimetype": "text/x-python",
   "name": "python",
   "nbconvert_exporter": "python",
   "pygments_lexer": "ipython3",
   "version": "3.9.18"
  }
 },
 "nbformat": 4,
 "nbformat_minor": 5
}
