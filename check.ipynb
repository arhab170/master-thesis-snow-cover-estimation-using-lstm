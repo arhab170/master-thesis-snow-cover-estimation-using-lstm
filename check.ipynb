{
 "cells": [
  {
   "cell_type": "code",
   "execution_count": 18,
   "metadata": {},
   "outputs": [],
   "source": [
    "import xarray as xr\n",
    "import pandas as pd\n",
    "import numpy as np\n",
    "import matplotlib.pyplot as plt\n",
    "# import geopandas as gpd\n",
    "# from ftplib import FTP\n",
    "# import hvplot.xarray\n",
    "import plotly.express as px"
   ]
  },
  {
   "cell_type": "code",
   "execution_count": 19,
   "metadata": {},
   "outputs": [],
   "source": [
    "minimum = []\n",
    "maximum = []"
   ]
  },
  {
   "cell_type": "code",
   "execution_count": 105,
   "metadata": {},
   "outputs": [],
   "source": [
    "scenario_option = 1\n",
    "parameter_option = 5\n",
    "\n",
    "multiple_scenario = 1"
   ]
  },
  {
   "cell_type": "code",
   "execution_count": 106,
   "metadata": {},
   "outputs": [],
   "source": [
    "presentation_type = \"daily_mean\" \n",
    "second_part=0\n",
    "# monthly_mean , daily_mean , \"daily_centre\""
   ]
  },
  {
   "cell_type": "code",
   "execution_count": 107,
   "metadata": {},
   "outputs": [],
   "source": [
    "if scenario_option == 0:\n",
    "    scenario = \"historical\"\n",
    "elif scenario_option ==1:\n",
    "    scenario = \"rcp26\"\n",
    "elif scenario_option ==2:\n",
    "    scenario = \"rcp45\"\n",
    "elif scenario_option ==3:\n",
    "    scenario = \"rcp85\"\n",
    "\n",
    "\n",
    "if parameter_option == 0:\n",
    "    parameter = \"tas\"\n",
    "elif parameter_option==1:\n",
    "    parameter=\"pr\"\n",
    "elif parameter_option==2:\n",
    "    parameter=\"huss\"\n",
    "elif parameter_option==3:\n",
    "    parameter=\"rlds\"\n",
    "elif parameter_option==4:\n",
    "    parameter=\"rsds\"\n",
    "elif parameter_option==5:\n",
    "    parameter=\"sfcWind\""
   ]
  },
  {
   "cell_type": "code",
   "execution_count": 108,
   "metadata": {},
   "outputs": [],
   "source": [
    "# parameter_array = [\"tas\", \"pr\", \"huss\", \"rlds\",  \"rsds\", \"sfcWind\"]\n",
    "# # parameter_array = [\"sfcWind\"]\n",
    "# # parameter_array = [parameter]\n",
    "\n",
    "# for parameter in parameter_array:\n",
    "#     if scenario==\"historical\":\n",
    "#         data = xr.open_mfdataset(rf\"D:\\thesis_data\\new_cordex_data\\{scenario}\\{parameter}_EUR-11_ECMWF-ERAINT_{scenario}_r1i1p1_CNRM-ALADIN63_v1_day_*.nc\")\n",
    "#     else:\n",
    "#         data = xr.open_mfdataset(rf\"D:\\thesis_data\\new_cordex_data\\{scenario}\\{parameter}_EUR-11_CNRM-CERFACS-CNRM-CM5_{scenario}_r1i1p1_CNRM-ALADIN63_v2_day_*.nc\")\n",
    "    \n",
    "#     data= data.where((data.lon>10.1).compute() & (data.lon<12.4).compute() & (data.lat>46.1).compute() & (data.lat<47.2).compute(), drop=True)\n",
    "\n",
    "#     data = data[parameter]\n",
    "#     # Assuming data2 is your xarray.Dataset\n",
    "#     new_x_values = xr.DataArray([10.17544839, 10.33772344, 10.5 , 10.66227656, 10.82455161, 10.98682366, 11.14909118, 11.31135269, 11.47360667, 11.63585162, 11.79808604, 11.96030843, 12.12251727, 12.28471108],  dims=['x'])\n",
    "#     new_y_values = xr.DataArray([46.12945789, 46.24168478, 46.3539238 , 46.46617454, 46.57843659, 46.69070955, 46.80299301, 46.91528657, 47.02758981, 47.13990233], dims=['y'])\n",
    "\n",
    "#     # Create a new dataset with the modified 'y' values\n",
    "#     data = data.assign_coords(x=new_x_values)\n",
    "#     data = data.assign_coords(y=new_y_values)\n",
    "\n",
    "#     output_file = rf'D:\\thesis_data\\new_cordex_data\\{scenario}\\cropped_data\\{parameter}_{scenario}.nc'\n",
    "#     data.to_netcdf(output_file, format='NETCDF4', engine='netcdf4')\n",
    "#     print(f\"Done {parameter}\")\n"
   ]
  },
  {
   "cell_type": "code",
   "execution_count": 109,
   "metadata": {},
   "outputs": [],
   "source": [
    "parameter_array = [\"tas\", \"pr\", \"huss\", \"rlds\",  \"rsds\", \"sfcWind\"]\n",
    "temp_min=[]\n",
    "temp_max=[]"
   ]
  },
  {
   "cell_type": "code",
   "execution_count": 110,
   "metadata": {},
   "outputs": [
    {
     "name": "stdout",
     "output_type": "stream",
     "text": [
      "sfcWind\n",
      "Minimum of RCP26:  0.23243816\n",
      "Maximum of RCP26:  10.966817\n"
     ]
    }
   ],
   "source": [
    "if multiple_scenario ==1:\n",
    "    scenario=\"rcp26\"\n",
    "    \n",
    "output_file = rf'D:\\thesis_data\\new_cordex_data\\cropped_data\\{scenario}\\{parameter}_{scenario}.nc'\n",
    "data = xr.open_mfdataset(output_file)\n",
    "\n",
    "min_rcp26 = data[parameter].min().values\n",
    "max_rcp26 = data[parameter].max().values\n",
    "print(parameter)\n",
    "print(\"Minimum of RCP26: \", min_rcp26)\n",
    "print(\"Maximum of RCP26: \", max_rcp26)\n",
    "temp_min.append(min_rcp26)\n",
    "temp_max.append(max_rcp26)\n"
   ]
  },
  {
   "cell_type": "code",
   "execution_count": 111,
   "metadata": {},
   "outputs": [
    {
     "name": "stdout",
     "output_type": "stream",
     "text": [
      "sfcWind\n",
      "Minimum of RCP45:  0.19498089\n",
      "Maximum of RCP45:  11.753773\n"
     ]
    }
   ],
   "source": [
    "if multiple_scenario == 1:\n",
    "    # scenario=\"rcp45\"\n",
    "    output_file = rf'D:\\thesis_data\\new_cordex_data\\cropped_data\\rcp45\\{parameter}_rcp45.nc'\n",
    "    data_rcp45 = xr.open_mfdataset(output_file)\n",
    "\n",
    "    min_rcp45 = data_rcp45[parameter].min().values\n",
    "    max_rcp45 = data_rcp45[parameter].max().values\n",
    "    print(parameter)\n",
    "    print(\"Minimum of RCP45: \", min_rcp45)\n",
    "    print(\"Maximum of RCP45: \", max_rcp45)\n",
    "\n",
    "    temp_min.append(min_rcp45)\n",
    "    temp_max.append(max_rcp45)\n"
   ]
  },
  {
   "cell_type": "code",
   "execution_count": 112,
   "metadata": {},
   "outputs": [
    {
     "name": "stdout",
     "output_type": "stream",
     "text": [
      "sfcWind\n",
      "Minimum of RCP85:  0.17896594\n",
      "Maximum of RCP85:  11.482726\n"
     ]
    }
   ],
   "source": [
    "if multiple_scenario == 1:\n",
    "    # scenario=\"rcp85\"\n",
    "    output_file = rf'D:\\thesis_data\\new_cordex_data\\cropped_data\\rcp85\\{parameter}_rcp85.nc'\n",
    "    data_rcp85 = xr.open_mfdataset(output_file)\n",
    "\n",
    "    min_rcp85 = data_rcp85[parameter].min().values\n",
    "    max_rcp85 = data_rcp85[parameter].max().values\n",
    "    print(parameter)\n",
    "    print(\"Minimum of RCP85: \", min_rcp85)\n",
    "    print(\"Maximum of RCP85: \", max_rcp85)\n",
    "\n",
    "    temp_min.append(min_rcp85)\n",
    "    temp_max.append(max_rcp85)\n"
   ]
  },
  {
   "cell_type": "code",
   "execution_count": 113,
   "metadata": {},
   "outputs": [
    {
     "name": "stdout",
     "output_type": "stream",
     "text": [
      "sfcWind\n",
      "Minimum of historical:  0.18703255\n",
      "Maximum of historical:  12.762716\n"
     ]
    }
   ],
   "source": [
    "scenario2 = \"historical\"\n",
    "data_hist = xr.open_mfdataset(rf'D:\\thesis_data\\new_cordex_data\\cropped_data\\{scenario2}\\{parameter}_{scenario2}.nc')\n",
    "\n",
    "min_hist = data_hist[parameter].min().values\n",
    "max_hist = data_hist[parameter].max().values\n",
    "print(parameter)\n",
    "print(\"Minimum of historical: \", min_hist)\n",
    "print(\"Maximum of historical: \", max_hist)\n",
    "\n",
    "temp_min.append(min_hist)\n",
    "temp_max.append(max_hist)"
   ]
  },
  {
   "cell_type": "code",
   "execution_count": 1,
   "metadata": {},
   "outputs": [
    {
     "ename": "NameError",
     "evalue": "name 'temp_min' is not defined",
     "output_type": "error",
     "traceback": [
      "\u001b[1;31m---------------------------------------------------------------------------\u001b[0m",
      "\u001b[1;31mNameError\u001b[0m                                 Traceback (most recent call last)",
      "Cell \u001b[1;32mIn[1], line 1\u001b[0m\n\u001b[1;32m----> 1\u001b[0m \u001b[38;5;28mprint\u001b[39m(\u001b[43mtemp_min\u001b[49m)\n",
      "\u001b[1;31mNameError\u001b[0m: name 'temp_min' is not defined"
     ]
    }
   ],
   "source": [
    "print(temp_min)"
   ]
  },
  {
   "cell_type": "code",
   "execution_count": 115,
   "metadata": {},
   "outputs": [
    {
     "data": {
      "text/plain": [
       "[array(10.966817, dtype=float32),\n",
       " array(11.753773, dtype=float32),\n",
       " array(11.482726, dtype=float32),\n",
       " array(12.762716, dtype=float32)]"
      ]
     },
     "execution_count": 115,
     "metadata": {},
     "output_type": "execute_result"
    }
   ],
   "source": [
    "temp_max"
   ]
  },
  {
   "cell_type": "code",
   "execution_count": 116,
   "metadata": {},
   "outputs": [],
   "source": [
    "minimum.append(min(temp_min))\n",
    "maximum.append(max(temp_max))"
   ]
  },
  {
   "cell_type": "code",
   "execution_count": 117,
   "metadata": {},
   "outputs": [
    {
     "data": {
      "text/plain": [
       "[array(227.03578, dtype=float32),\n",
       " array(2.502997e-33, dtype=float32),\n",
       " array(6.177828e-05, dtype=float32),\n",
       " array(93.63606, dtype=float32),\n",
       " array(2.2221062, dtype=float32),\n",
       " array(0.17896594, dtype=float32)]"
      ]
     },
     "execution_count": 117,
     "metadata": {},
     "output_type": "execute_result"
    }
   ],
   "source": [
    "minimum"
   ]
  },
  {
   "cell_type": "code",
   "execution_count": 118,
   "metadata": {},
   "outputs": [
    {
     "data": {
      "text/plain": [
       "[array(306.4887, dtype=float32),\n",
       " array(0.00215756, dtype=float32),\n",
       " array(0.01509818, dtype=float32),\n",
       " array(405.74277, dtype=float32),\n",
       " array(421.34006, dtype=float32),\n",
       " array(12.762716, dtype=float32)]"
      ]
     },
     "execution_count": 118,
     "metadata": {},
     "output_type": "execute_result"
    }
   ],
   "source": [
    "maximum"
   ]
  },
  {
   "cell_type": "code",
   "execution_count": 122,
   "metadata": {},
   "outputs": [
    {
     "data": {
      "text/html": [
       "<div>\n",
       "<style scoped>\n",
       "    .dataframe tbody tr th:only-of-type {\n",
       "        vertical-align: middle;\n",
       "    }\n",
       "\n",
       "    .dataframe tbody tr th {\n",
       "        vertical-align: top;\n",
       "    }\n",
       "\n",
       "    .dataframe thead th {\n",
       "        text-align: right;\n",
       "    }\n",
       "</style>\n",
       "<table border=\"1\" class=\"dataframe\">\n",
       "  <thead>\n",
       "    <tr style=\"text-align: right;\">\n",
       "      <th></th>\n",
       "      <th>parameter</th>\n",
       "      <th>min</th>\n",
       "      <th>max</th>\n",
       "    </tr>\n",
       "  </thead>\n",
       "  <tbody>\n",
       "    <tr>\n",
       "      <th>0</th>\n",
       "      <td>tas</td>\n",
       "      <td>227.03578</td>\n",
       "      <td>306.4887</td>\n",
       "    </tr>\n",
       "    <tr>\n",
       "      <th>1</th>\n",
       "      <td>pr</td>\n",
       "      <td>2.502997e-33</td>\n",
       "      <td>0.0021575622</td>\n",
       "    </tr>\n",
       "    <tr>\n",
       "      <th>2</th>\n",
       "      <td>huss</td>\n",
       "      <td>6.177828e-05</td>\n",
       "      <td>0.015098182</td>\n",
       "    </tr>\n",
       "    <tr>\n",
       "      <th>3</th>\n",
       "      <td>rlds</td>\n",
       "      <td>93.63606</td>\n",
       "      <td>405.74277</td>\n",
       "    </tr>\n",
       "    <tr>\n",
       "      <th>4</th>\n",
       "      <td>rsds</td>\n",
       "      <td>2.2221062</td>\n",
       "      <td>421.34006</td>\n",
       "    </tr>\n",
       "    <tr>\n",
       "      <th>5</th>\n",
       "      <td>sfcWind</td>\n",
       "      <td>0.17896594</td>\n",
       "      <td>12.762716</td>\n",
       "    </tr>\n",
       "  </tbody>\n",
       "</table>\n",
       "</div>"
      ],
      "text/plain": [
       "  parameter           min           max\n",
       "0       tas     227.03578      306.4887\n",
       "1        pr  2.502997e-33  0.0021575622\n",
       "2      huss  6.177828e-05   0.015098182\n",
       "3      rlds      93.63606     405.74277\n",
       "4      rsds     2.2221062     421.34006\n",
       "5   sfcWind    0.17896594     12.762716"
      ]
     },
     "execution_count": 122,
     "metadata": {},
     "output_type": "execute_result"
    }
   ],
   "source": [
    "df = pd.DataFrame({\n",
    "    \"parameter\" : parameter_array,\n",
    "    \"min\": minimum,\n",
    "    \"max\": maximum\n",
    "    })\n",
    "\n",
    "df"
   ]
  },
  {
   "cell_type": "code",
   "execution_count": 123,
   "metadata": {},
   "outputs": [],
   "source": [
    "df.to_csv('min_max_of_all_parameters.csv', index=False)"
   ]
  },
  {
   "cell_type": "code",
   "execution_count": 121,
   "metadata": {},
   "outputs": [
    {
     "name": "stdout",
     "output_type": "stream",
     "text": [
      "5\n"
     ]
    }
   ],
   "source": [
    "print(parameter_option)"
   ]
  },
  {
   "cell_type": "code",
   "execution_count": null,
   "metadata": {},
   "outputs": [],
   "source": []
  }
 ],
 "metadata": {
  "kernelspec": {
   "display_name": "tensorflow_env",
   "language": "python",
   "name": "python3"
  },
  "language_info": {
   "codemirror_mode": {
    "name": "ipython",
    "version": 3
   },
   "file_extension": ".py",
   "mimetype": "text/x-python",
   "name": "python",
   "nbconvert_exporter": "python",
   "pygments_lexer": "ipython3",
   "version": "3.9.18"
  }
 },
 "nbformat": 4,
 "nbformat_minor": 2
}
