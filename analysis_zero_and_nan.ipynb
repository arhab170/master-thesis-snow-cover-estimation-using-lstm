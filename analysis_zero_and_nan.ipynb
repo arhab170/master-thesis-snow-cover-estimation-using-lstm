{
 "cells": [
  {
   "cell_type": "code",
   "execution_count": null,
   "metadata": {},
   "outputs": [],
   "source": [
    "import xarray as xr\n",
    "import pandas as pd\n",
    "import numpy as np\n",
    "import matplotlib.pyplot as plt\n",
    "# import geopandas as gpd\n",
    "# from ftplib import FTP\n",
    "# import hvplot.xarray\n",
    "import plotly.express as px\n",
    "import calendar"
   ]
  },
  {
   "cell_type": "code",
   "execution_count": null,
   "metadata": {},
   "outputs": [],
   "source": [
    "def get_min_max(df, parameter_name):\n",
    "    param_data = df[df['parameter'] == parameter_name]\n",
    "    if not param_data.empty:\n",
    "        min_val = param_data['min'].values[0]\n",
    "        max_val = param_data['max'].values[0]\n",
    "        return min_val, max_val\n",
    "    else:\n",
    "        return None, None "
   ]
  },
  {
   "cell_type": "code",
   "execution_count": null,
   "metadata": {},
   "outputs": [],
   "source": [
    "df = pd.read_csv(r\"D:\\thesis_data\\random_csv_output\\complete_df.csv\")\n",
    "\n",
    "df"
   ]
  },
  {
   "cell_type": "code",
   "execution_count": null,
   "metadata": {},
   "outputs": [],
   "source": [
    "import plotly.express as px\n",
    "from plotly.subplots import make_subplots\n",
    "import plotly.graph_objs as go\n",
    "\n",
    "# Plot histogram for df\n",
    "fig1 = px.histogram(df, x='ndsi', nbins=100)\n",
    "fig1.update_layout(\n",
    "    xaxis_title='Value',\n",
    "    yaxis_title='Frequency',\n",
    ")\n",
    "\n",
    "# # Plot histogram for df_to_delete\n",
    "# fig2 = px.histogram(df, x='ndsi', nbins=100)\n",
    "# fig2.update_layout(\n",
    "#     xaxis_title='Value',\n",
    "#     yaxis_title='Frequency',\n",
    "# )\n",
    "\n",
    "# # Create subplots with two columns\n",
    "# fig = make_subplots(rows=1, cols=2, subplot_titles=('Before', 'After'))\n",
    "# fig.add_trace(fig1.data[0], row=1, col=2)\n",
    "# fig.add_trace(fig2.data[0], row=1, col=1)\n",
    "\n",
    "# fig.update_layout(\n",
    "#     title='Before and after zero sampling in mid-year months',\n",
    "#     width=1000,  # Total width of the combined plots\n",
    "#     height=400,  # Height of the combined plots\n",
    "# )\n",
    "\n",
    "# plotly_image_path = os.path.join(folder_name, 'before_after_zero_sampling.png')\n",
    "# fig.write_image(plotly_image_path)\n",
    "\n",
    "\n",
    "fig1.show()\n"
   ]
  },
  {
   "cell_type": "code",
   "execution_count": null,
   "metadata": {},
   "outputs": [],
   "source": [
    "df"
   ]
  },
  {
   "cell_type": "code",
   "execution_count": null,
   "metadata": {},
   "outputs": [],
   "source": [
    "\n",
    "# Assuming df is your dataframe with a column 'ndsi' containing NDSI values\n",
    "# Make sure your dataframe has a column 'date' with datetime format\n",
    "\n",
    "# Step 1: Identify months from April to November\n",
    "selected_months = df[(df['Month'] >= 4) & (df['Month'] <= 11)]\n",
    "selected_months\n"
   ]
  },
  {
   "cell_type": "code",
   "execution_count": null,
   "metadata": {},
   "outputs": [],
   "source": [
    "\n",
    "non_selected_months = df.drop(selected_months.index)\n",
    "non_selected_months"
   ]
  },
  {
   "cell_type": "code",
   "execution_count": null,
   "metadata": {},
   "outputs": [],
   "source": [
    "\n",
    "# Step 2: Identify rows with NDSI values in the specified range\n",
    "near_zero_rows = selected_months[(selected_months['ndsi'] >= -0.005) & (selected_months['ndsi'] <= 0.005)]\n",
    "near_zero_rows\n"
   ]
  },
  {
   "cell_type": "code",
   "execution_count": null,
   "metadata": {},
   "outputs": [],
   "source": [
    "# Step 3: Calculate the number of zero values you want to achieve (a)\n",
    "a = 4000\n",
    "\n",
    "# Step 4: Calculate the total number of rows in each month\n",
    "total_rows_per_month = near_zero_rows.groupby('Month').size()\n",
    "total_rows_per_month\n"
   ]
  },
  {
   "cell_type": "code",
   "execution_count": null,
   "metadata": {},
   "outputs": [],
   "source": [
    "# Step 5: Calculate the percentage (b) to sample for each month\n",
    "b = (a / total_rows_per_month).mean()\n",
    "b"
   ]
  },
  {
   "cell_type": "code",
   "execution_count": null,
   "metadata": {},
   "outputs": [],
   "source": [
    "\n",
    "# Step 6: Use the calculated percentage to sample the dataframe for each month\n",
    "sampled_data = selected_months.groupby('Month',group_keys=False).apply(lambda x: x.sample(frac=b, replace=True))\n",
    "sampled_data\n"
   ]
  },
  {
   "cell_type": "code",
   "execution_count": null,
   "metadata": {},
   "outputs": [],
   "source": [
    "non_selected_months"
   ]
  },
  {
   "cell_type": "code",
   "execution_count": null,
   "metadata": {},
   "outputs": [],
   "source": [
    "# Drop the 'month' column if you added it\n",
    "\n",
    "sampled_data\n",
    "# Now 'sampled_data' contains the sampled rows for each month with the desired number of zero values\n"
   ]
  },
  {
   "cell_type": "code",
   "execution_count": null,
   "metadata": {},
   "outputs": [],
   "source": [
    "concatenated_df = pd.concat([sampled_data, non_selected_months], ignore_index=False)\n",
    "concatenated_df"
   ]
  },
  {
   "cell_type": "code",
   "execution_count": null,
   "metadata": {},
   "outputs": [],
   "source": [
    "concatenated_df['Date'] = pd.to_datetime(concatenated_df['Date'])\n",
    "\n",
    "# Sort the DataFrame by the 'date' column\n",
    "concatenated_df = concatenated_df.sort_values(by='Unnamed: 0')\n",
    "concatenated_df"
   ]
  },
  {
   "cell_type": "code",
   "execution_count": null,
   "metadata": {},
   "outputs": [],
   "source": [
    "import plotly.express as px\n",
    "from plotly.subplots import make_subplots\n",
    "import plotly.graph_objs as go\n",
    "\n",
    "# Plot histogram for df\n",
    "fig1 = px.histogram(non_selected_months, x='ndsi', nbins=100)\n",
    "fig1.update_layout(\n",
    "    xaxis_title='Value',\n",
    "    yaxis_title='Frequency',\n",
    ")\n",
    "\n",
    "# Plot histogram for df_to_delete\n",
    "fig2 = px.histogram(df, x='ndsi', nbins=100)\n",
    "fig2.update_layout(\n",
    "    xaxis_title='Value',\n",
    "    yaxis_title='Frequency',\n",
    ")\n",
    "\n",
    "# Create subplots with two columns\n",
    "fig = make_subplots(rows=1, cols=2, subplot_titles=('Before', 'After'))\n",
    "fig.add_trace(fig1.data[0], row=1, col=2)\n",
    "fig.add_trace(fig2.data[0], row=1, col=1)\n",
    "\n",
    "fig.update_layout(\n",
    "    title='Before and after zero sampling in mid-year months',\n",
    "    width=1000,  # Total width of the combined plots\n",
    "    height=400,  # Height of the combined plots\n",
    ")\n",
    "\n",
    "# plotly_image_path = os.path.join(folder_name, 'before_after_zero_sampling.png')\n",
    "# fig.write_image(plotly_image_path)\n",
    "\n",
    "\n",
    "fig.show()\n"
   ]
  },
  {
   "cell_type": "code",
   "execution_count": null,
   "metadata": {},
   "outputs": [],
   "source": []
  },
  {
   "cell_type": "code",
   "execution_count": null,
   "metadata": {},
   "outputs": [],
   "source": [
    "import plotly.express as px\n",
    "from plotly.subplots import make_subplots\n",
    "import plotly.graph_objs as go\n",
    "import xarray as xr\n",
    "import pandas as pd\n",
    "import numpy as np\n",
    "import matplotlib.pyplot as plt\n",
    "# import geopandas as gpd\n",
    "# from ftplib import FTP\n",
    "# import hvplot.xarray\n",
    "import plotly.express as px\n",
    "import calendar\n"
   ]
  },
  {
   "cell_type": "code",
   "execution_count": null,
   "metadata": {},
   "outputs": [],
   "source": [
    "#bookmark\n",
    "df = pd.read_csv(r\"D:\\thesis_data\\random_csv_output\\complete_df.csv\")\n",
    "df['Date'] = pd.to_datetime(df['Date'])\n",
    "df"
   ]
  },
  {
   "cell_type": "code",
   "execution_count": null,
   "metadata": {},
   "outputs": [],
   "source": [
    "number_of_zero_array = []\n",
    "percentage_to_sample_array = []"
   ]
  },
  {
   "cell_type": "code",
   "execution_count": null,
   "metadata": {},
   "outputs": [],
   "source": [
    "# Step 1: Set the initial values\n",
    "a = 30000  # Desired number of zero values\n",
    "a = a - 2500 \n",
    "tolerance = 0.05 * a  # Tolerance level for convergence\n",
    "b = 0.01  # Initial percentage to sample\n",
    "print(\"Tolerance: \", tolerance)\n",
    "print(f\"Final range of near zeores: {a +2500 - tolerance} - {a + 2500 + tolerance}\")"
   ]
  },
  {
   "cell_type": "code",
   "execution_count": null,
   "metadata": {},
   "outputs": [],
   "source": [
    "high_zero_month_df = df[df['Month'].isin([1, 2, 3, 12])]\n",
    "while True:\n",
    "    zero_values_array = []\n",
    "\n",
    "    # Step 2: Iterate through each month\n",
    "    for month in range(4, 12):  # Months from April to November\n",
    "        # Step 3: Sample rows and calculate the number of near zero values\n",
    "        sampled_data = df[(df['Date'].dt.month == month)].sample(frac=b)\n",
    "        zero_values_array.append(np.sum((sampled_data['ndsi'] >= -0.005) & (sampled_data['ndsi'] <= 0.005)))\n",
    "\n",
    "    # Step 4: Check the sum of zero values\n",
    "    total_zero_values = sum(zero_values_array)\n",
    "\n",
    "    # Step 5: Adjust the percentage (b)\n",
    "    if total_zero_values > a + tolerance:\n",
    "        b -= 0.01\n",
    "    elif total_zero_values < a - tolerance:\n",
    "        b += 0.01\n",
    "    else:\n",
    "        break  # Convergence reached\n",
    "\n",
    "# Step 6: Display the final value of b\n",
    "print(f\"Final value of b: {b}\")\n",
    "print(f\"Total zero values: {total_zero_values+2500}\")\n"
   ]
  },
  {
   "cell_type": "code",
   "execution_count": null,
   "metadata": {},
   "outputs": [],
   "source": [
    "\n",
    "# Now you can use this final value of b to sample your DataFrame\n",
    "final_sampled_data = pd.concat([df[(df['Date'].dt.month == month)].sample(frac=b) for month in range(4, 12)])\n",
    "final_sampled_data = pd.concat([final_sampled_data, high_zero_month_df])\n",
    "final_sampled_data = final_sampled_data.sort_values(\"Unnamed: 0\")\n",
    "final_sampled_data"
   ]
  },
  {
   "cell_type": "code",
   "execution_count": null,
   "metadata": {},
   "outputs": [],
   "source": [
    "\n",
    "# Plot histogram for df\n",
    "fig1 = px.histogram(df, x='ndsi', nbins=100)\n",
    "fig1.update_layout(\n",
    "    xaxis_title='Value',\n",
    "    yaxis_title='Frequency',\n",
    ")\n",
    "\n",
    "# Plot histogram for df_to_delete\n",
    "fig2 = px.histogram(final_sampled_data, x='ndsi', nbins=100)\n",
    "fig2.update_layout(\n",
    "    xaxis_title='Value',\n",
    "    yaxis_title='Frequency',\n",
    ")\n",
    "\n",
    "# Create subplots with two columns\n",
    "fig = make_subplots(rows=1, cols=2, subplot_titles=('Before', 'After'))\n",
    "fig.add_trace(fig1.data[0], row=1, col=2)\n",
    "fig.add_trace(fig2.data[0], row=1, col=1)\n",
    "\n",
    "fig.update_layout(\n",
    "    title='Before and after zero sampling in mid-year months',\n",
    "    width=1000,  # Total width of the combined plots\n",
    "    height=400,  # Height of the combined plots\n",
    ")\n",
    "\n",
    "# plotly_image_path = os.path.join(folder_name, 'before_after_zero_sampling.png')\n",
    "# fig.write_image(plotly_image_path)\n",
    "\n",
    "\n",
    "fig.show()\n"
   ]
  },
  {
   "cell_type": "code",
   "execution_count": null,
   "metadata": {},
   "outputs": [],
   "source": [
    "df['Date'], scale = df['Date'].dt.strftime('%m-%Y'), \"Average monthly\"\n",
    "df= df.groupby('Date')[[\"ndsi\"]].mean().reset_index()\n",
    "df['Date'] = pd.to_datetime(df['Date'])\n",
    "df = df.sort_values(by='Date')\n",
    "\n",
    "fig = px.line(df, x=\"Date\" , y=[\"ndsi\"])\n",
    "fig.update_layout(title=f'Original', width = 1800, height = 400)\n",
    "\n",
    "fig"
   ]
  },
  {
   "cell_type": "code",
   "execution_count": null,
   "metadata": {},
   "outputs": [],
   "source": [
    "final_sampled_data['Date'], scale = final_sampled_data['Date'].dt.strftime('%m-%Y'), \"Average monthly\"\n",
    "final_sampled_data= final_sampled_data.groupby('Date')[[\"ndsi\"]].mean().reset_index()\n",
    "final_sampled_data['Date'] = pd.to_datetime(final_sampled_data['Date'])\n",
    "final_sampled_data = final_sampled_data.sort_values(by='Date')\n",
    "\n",
    "fig = px.line(final_sampled_data, x=\"Date\" , y=[\"ndsi\"])\n",
    "fig.update_layout(title=f'Original', width = 1800, height = 400)\n",
    "\n",
    "fig"
   ]
  },
  {
   "cell_type": "code",
   "execution_count": null,
   "metadata": {},
   "outputs": [],
   "source": [
    "\n",
    "\n",
    "# Assuming your DataFrame is named 'df'\n",
    "# Replace this with your actual DataFrame if it's named differently\n",
    "\n",
    "# Create a sample DataFrame for demonstration\n",
    "data = {\n",
    "    'ndsi': [0.1, 0.5, 0.2, 0.8, 0.4, 0.6, 0.3, 0.9, 0.7, 0.5],\n",
    "    'col1': [1, 2, 3, 4, 5, 6, 7, 8, 9, 10],\n",
    "    # Add other columns as needed\n",
    "}\n",
    "\n",
    "df = pd.DataFrame(data)\n",
    "df"
   ]
  },
  {
   "cell_type": "code",
   "execution_count": null,
   "metadata": {},
   "outputs": [],
   "source": [
    "df['ndsi'].sum()"
   ]
  },
  {
   "cell_type": "code",
   "execution_count": null,
   "metadata": {},
   "outputs": [],
   "source": [
    "\n",
    "# Calculate the weights based on the 'ndsi' column\n",
    "weights = df['ndsi'] / df['ndsi'].sum()\n",
    "weights\n"
   ]
  },
  {
   "cell_type": "code",
   "execution_count": null,
   "metadata": {},
   "outputs": [],
   "source": [
    "# Sample 10% of the DataFrame using the calculated weights\n",
    "sampled_df = df.sample(frac=0.1, replace=True, weights=weights)\n",
    "sampled_df\n"
   ]
  },
  {
   "cell_type": "code",
   "execution_count": null,
   "metadata": {},
   "outputs": [],
   "source": [
    "\n",
    "# Reset the index of the sampled DataFrame if needed\n",
    "sampled_df.reset_index(drop=True, inplace=True)\n",
    "\n",
    "# Print the sampled DataFrame\n",
    "print(sampled_df)\n"
   ]
  },
  {
   "cell_type": "code",
   "execution_count": null,
   "metadata": {},
   "outputs": [],
   "source": []
  },
  {
   "cell_type": "code",
   "execution_count": null,
   "metadata": {},
   "outputs": [],
   "source": []
  },
  {
   "cell_type": "code",
   "execution_count": null,
   "metadata": {},
   "outputs": [],
   "source": []
  },
  {
   "cell_type": "code",
   "execution_count": null,
   "metadata": {},
   "outputs": [],
   "source": []
  },
  {
   "cell_type": "markdown",
   "metadata": {},
   "source": [
    "#old stuff, i didnt botehr"
   ]
  },
  {
   "cell_type": "code",
   "execution_count": null,
   "metadata": {},
   "outputs": [],
   "source": [
    "min_max_df = pd.read_csv(r\"D:\\thesis_data\\random_csv_output\\min_max_of_all_parameters.csv\")\n",
    "min_max_df"
   ]
  },
  {
   "cell_type": "code",
   "execution_count": null,
   "metadata": {},
   "outputs": [],
   "source": [
    "parameter_array = [\"tas\", \"pr\", \"huss\", \"rlds\",  \"rsds\", \"sfcWind\"]\n",
    "# parameter_array = [\"tas\"]\n",
    "\n",
    "\n",
    "# min_max_df = pd.read_csv(\"./min_max_of_all_parameters.csv\")\n",
    "\n",
    "# applying the min max scaling\n",
    "for parameter in parameter_array:\n",
    "    min_val, max_val =  get_min_max(min_max_df, parameter)\n",
    "    df[parameter] = (df[parameter] - min_val) / (max_val - min_val)\n",
    "\n",
    "df['ndsi'] = df['ndsi'].apply(lambda x: x / 100 if not pd.isnull(x) else x)\n",
    "\n",
    "df = df.dropna()\n",
    "df"
   ]
  },
  {
   "cell_type": "code",
   "execution_count": null,
   "metadata": {},
   "outputs": [],
   "source": [
    "df['Date'] = pd.to_datetime(df['Date'])\n",
    "\n",
    "# df"
   ]
  },
  {
   "cell_type": "code",
   "execution_count": null,
   "metadata": {},
   "outputs": [],
   "source": [
    "df_to_delete"
   ]
  },
  {
   "cell_type": "code",
   "execution_count": null,
   "metadata": {},
   "outputs": [],
   "source": [
    "fig = px.histogram(df_to_delete, x='ndsi', nbins=100)\n",
    "\n",
    "# Update layout for better visibility (optional)\n",
    "fig.update_layout(title='Interactive Histogram of Column',\n",
    "                  xaxis_title='Value',\n",
    "                  yaxis_title='Frequency')"
   ]
  },
  {
   "cell_type": "code",
   "execution_count": null,
   "metadata": {},
   "outputs": [],
   "source": [
    "month_fraction_array = [0.357142857, 0.117647059, 0.052631579, 0.03030303, 0.028571429, 0.035714286, 0.0625, 0.285714286]\n",
    "\n",
    "month_fraction_array = [round(x, 2) for x in month_fraction_array]\n",
    "\n",
    "# Display the rounded array\n",
    "print(month_fraction_array)\n",
    "# it's a copy of the last cell's code. Just editing in it to make it work.\n",
    "# Getting the 1. Number of zeroes 2. Number of near zeroes 3. Number of NaNs in the ndsi data\n",
    "month_number = 12\n",
    "year = 2018\n",
    "\n",
    "year_array = []\n",
    "total_len_array = []\n",
    "zero_array = []\n",
    "more_than_zero_array = []\n",
    "nan_count_array = []\n",
    "\n",
    "for i in range(4, 12):\n",
    "    df_zero_ndsi = df_to_delete\n",
    "    j = i-4\n",
    "    df_zero_ndsi = df_zero_ndsi[df_zero_ndsi['Month'] == i]\n",
    "    # df_zero_ndsi = df_zero_ndsi[df_zero_ndsi['Year'].isin([i])]  # will come back to this later\n",
    "    df_zero_ndsi = df_zero_ndsi.sample(frac=month_fraction_array[j])\n",
    "    \n",
    "    \n",
    "    # 3. now add it back to the original dataframe\n",
    "    # combined_df =  pd.concat([df1, df2], ignore_index=True)\n",
    "    df =  pd.concat([df, df_zero_ndsi], ignore_index=True)\n",
    "\n",
    "df_zero_ndsi"
   ]
  },
  {
   "cell_type": "code",
   "execution_count": null,
   "metadata": {},
   "outputs": [],
   "source": [
    "df"
   ]
  },
  {
   "cell_type": "code",
   "execution_count": null,
   "metadata": {},
   "outputs": [],
   "source": [
    "fig = px.histogram(df, x='ndsi', nbins=100)\n",
    "\n",
    "# Update layout for better visibility (optional)\n",
    "fig.update_layout(title='Interactive Histogram of Column',\n",
    "                  xaxis_title='Value',\n",
    "                  yaxis_title='Frequency')"
   ]
  },
  {
   "cell_type": "markdown",
   "metadata": {},
   "source": [
    "# look down you'll find something, I was jsut lazy here"
   ]
  },
  {
   "cell_type": "code",
   "execution_count": null,
   "metadata": {},
   "outputs": [],
   "source": [
    "px.histogram(df_zero_ndsi, x='ndsi', nbins=100)"
   ]
  },
  {
   "cell_type": "code",
   "execution_count": null,
   "metadata": {},
   "outputs": [],
   "source": [
    "fig = px.line(comparison_df, x=\"Date\" , y=[\"y_pred\",\"y_test\"])\n",
    "fig.update_layout(title=f'Predicted vs Observed | {scale}')"
   ]
  },
  {
   "cell_type": "code",
   "execution_count": null,
   "metadata": {},
   "outputs": [],
   "source": []
  },
  {
   "cell_type": "code",
   "execution_count": null,
   "metadata": {},
   "outputs": [],
   "source": [
    "# it's a copy of the last cell's code. Just editing in it to make it work.\n",
    "# Getting the 1. Number of zeroes 2. Number of near zeroes 3. Number of NaNs in the ndsi data\n",
    "month_number = 12\n",
    "year = 2018\n",
    "\n",
    "year_array = []\n",
    "total_len_array = []\n",
    "zero_array = []\n",
    "more_than_zero_array = []\n",
    "nan_count_array = []\n",
    "\n",
    "for i in range(4, 12):\n",
    "    df_zero_ndsi = df_to_delete\n",
    "    df_zero_ndsi = df_zero_ndsi[df_zero_ndsi['Month'] == i]\n",
    "    # df_zero_ndsi = df_zero_ndsi[df_zero_ndsi['Year'].isin([i])]  # will come back to this later\n",
    "    \n",
    "    # number_of_zero = df_zero_ndsi['check'].sum()\n",
    "    number_of_more_than_zero = df_zero_ndsi['check2'].sum()\n",
    "\n",
    "    \n",
    "    #1. name a df temp and only select the ones which have check = 0, \n",
    "    temp = df_zero_ndsi \n",
    "    df_zero_ndsi = df_zero_ndsi[df_zero_ndsi['check'] == 0]\n",
    "\n",
    "    # 2. now randomly select 1.5*number_of_more_than_zero in it\n",
    "    temp = temp[temp['check'] == 1]\n",
    "    temp = temp.sample(n = int(1.5*number_of_more_than_zero))\n",
    "\n",
    "    # 3. now add it back to the original dataframe\n",
    "    # combined_df =  pd.concat([df1, df2], ignore_index=True)\n",
    "    df =  pd.concat([df, temp, df_zero_ndsi], ignore_index=True)\n",
    "\n",
    "df_zero_ndsi"
   ]
  },
  {
   "cell_type": "code",
   "execution_count": null,
   "metadata": {},
   "outputs": [],
   "source": [
    "temp"
   ]
  },
  {
   "cell_type": "code",
   "execution_count": null,
   "metadata": {},
   "outputs": [],
   "source": [
    "combined_df= df\n",
    "combined_df = combined_df.sort_values(by='Date', ascending=True)\n",
    "combined_df = combined_df[[\"Date\", \"Latitude\", \"Longitude\", \"ndsi\", \"Month\", \"Year\", \"check\", \"check2\"]]\n",
    "combined_df"
   ]
  },
  {
   "cell_type": "code",
   "execution_count": null,
   "metadata": {},
   "outputs": [],
   "source": [
    "combined_df, scale = combined_df.sort_values(by='Date'), \"Original without mean\"\n",
    "fig = px.scatter(combined_df, x=\"Date\" , y=\"ndsi\")\n",
    "fig.update_layout(title=f'Predicted vs Observed | {scale}')\n"
   ]
  },
  {
   "cell_type": "code",
   "execution_count": null,
   "metadata": {},
   "outputs": [],
   "source": [
    "\n",
    "\n",
    "combined_df_1 = combined_df[(combined_df['Latitude'] ==  46.58) & (combined_df['Longitude'] == 11.15)]\n",
    "combined_df_1, scale = combined_df_1.sort_values(by='Date'), \"Centre without mean\"\n",
    "fig = px.scatter(combined_df, x=\"Date\" , y=\"ndsi\")\n",
    "fig.update_layout(title=f'Predicted vs Observed | {scale}')\n"
   ]
  },
  {
   "cell_type": "code",
   "execution_count": null,
   "metadata": {},
   "outputs": [],
   "source": [
    "combined_df_daily_mean = combined_df\n",
    "combined_df_daily_mean['Date'] = pd.to_datetime(combined_df_daily_mean['Date'], format='%d-%m-%Y')\n",
    "combined_df_daily_mean= combined_df_daily_mean.groupby('Date')[[\"ndsi\"]].mean().reset_index()\n",
    "combined_df_daily_mean = combined_df_daily_mean.sort_values(by='Date')\n",
    "# combined_df_daily_mean\n",
    "fig = px.scatter(combined_df_daily_mean, x=\"Date\" , y=\"ndsi\")\n",
    "fig.update_layout(title=f'Predicted vs Observed | {scale}')\n"
   ]
  },
  {
   "cell_type": "code",
   "execution_count": null,
   "metadata": {},
   "outputs": [],
   "source": [
    "combined_df_monthly = combined_df\n",
    "combined_df_monthly['Date'] = pd.to_datetime(combined_df_monthly['Date'])\n",
    "combined_df_monthly = combined_df_monthly.sort_values(by='Date')\n",
    "combined_df_monthly['Date'], scale = combined_df_monthly['Date'].dt.strftime('%m-%Y'), \"Average monthly\"\n",
    "combined_df_monthly= combined_df_monthly.groupby('Date')[[\"ndsi\"]].mean().reset_index()\n",
    "combined_df_monthly['Date'] = pd.to_datetime(combined_df_monthly['Date'])\n",
    "combined_df_monthly = combined_df_monthly.sort_values(by='Date')\n",
    "\n",
    "fig = px.line(combined_df_monthly, x=\"Date\" , y=\"ndsi\")\n",
    "fig.update_layout(title=f'Predicted vs Observed | {scale}')\n",
    "\n"
   ]
  },
  {
   "cell_type": "code",
   "execution_count": null,
   "metadata": {},
   "outputs": [],
   "source": [
    "# Create an interactive histogram using Plotly\n",
    "fig = px.histogram(combined_df, x='ndsi', nbins=100)\n",
    "\n",
    "# Update layout for better visibility (optional)\n",
    "fig.update_layout(title='Interactive Histogram of Column',\n",
    "                  xaxis_title='Value',\n",
    "                  yaxis_title='Frequency')"
   ]
  },
  {
   "cell_type": "code",
   "execution_count": null,
   "metadata": {},
   "outputs": [],
   "source": [
    "\n",
    "# # Getting the 1. Number of zeroes 2. Number of near zeroes 3. Number of NaNs in the ndsi data\n",
    "# month_number = 12\n",
    "# year = 2018\n",
    "\n",
    "# year_array = []\n",
    "# total_len_array = []\n",
    "# zero_array = []\n",
    "# more_than_zero_array = []\n",
    "# nan_count_array = []\n",
    "\n",
    "# for i in range(2001, 2019):\n",
    "#     year_array.append(i)    \n",
    "#     df['Date'] = pd.to_datetime(df['Date'])\n",
    "#     df[\"Month\"] = df['Date'].dt.month\n",
    "#     df[\"Year\"] = df['Date'].dt.year\n",
    "\n",
    "#     df_zero_ndsi = df\n",
    "#     df_zero_ndsi = df_zero_ndsi.dropna()\n",
    "#     df_zero_ndsi = df_zero_ndsi[df_zero_ndsi['Month'] == month_number]\n",
    "#     df_zero_ndsi = df_zero_ndsi[df_zero_ndsi['Year'].isin([i])]\n",
    "    \n",
    "#     number_of_na = (calendar.monthrange(i, month_number)[1]*140) - len(df_zero_ndsi)\n",
    "#     nan_count_array.append(number_of_na)\n",
    "    \n",
    "#     # total_len_array.append(len(df_zero_ndsi))\n",
    "\n",
    "    \n",
    "#     df_zero_ndsi['check'] = np.where((df_zero_ndsi['ndsi'] >= -0.005) & (df_zero_ndsi['ndsi'] <= 0.005), 1, 0)\n",
    "#     df_zero_ndsi['check2'] = np.where((df_zero_ndsi['ndsi'] > 0.005) & (df_zero_ndsi['ndsi'] <= 0.015), 1, 0)\n",
    "#     # df_zero_ndsi = df_zero_ndsi[df_zero_ndsi['ndsi'] != 105]\n",
    "\n",
    "    \n",
    "#     number_of_zero = df_zero_ndsi['check'].sum()\n",
    "#     number_of_more_than_zero = df_zero_ndsi['check2'].sum()\n",
    "\n",
    "#     zero_array.append(number_of_zero)\n",
    "#     more_than_zero_array.append(number_of_more_than_zero)\n",
    "\n",
    "#     # df_zero_ndsi = df_zero_ndsi[df_zero_ndsi['check2'] == 1]\n",
    "#     # df_zero_ndsi = df_zero_ndsi[~df_zero_ndsi['Month'].isin([1, 2, 3, 4, 11, 12])]\n",
    "\n",
    "# # df_zero_ndsi= df_zero_ndsi.drop([\"Month\", \"check\"],axis =1)\n",
    "# # df = df_zero_ndsi \n",
    "    \n",
    "# df_zero_ndsi"
   ]
  },
  {
   "cell_type": "code",
   "execution_count": null,
   "metadata": {},
   "outputs": [],
   "source": [
    "# # Getting the 1. Number of zeroes 2. Number of near zeroes 3. Number of NaNs in the ndsi data\n",
    "# month_number = 12\n",
    "# year = 2018\n",
    "\n",
    "# year_array = []\n",
    "# total_len_array = []\n",
    "# zero_array = []\n",
    "# more_than_zero_array = []\n",
    "# nan_count_array = []\n",
    "\n",
    "# for i in range(2001, 2019):\n",
    "#     year_array.append(i)    \n",
    "#     df['Date'] = pd.to_datetime(df['Date'])\n",
    "#     df[\"Month\"] = df['Date'].dt.month\n",
    "#     df[\"Year\"] = df['Date'].dt.year\n",
    "\n",
    "#     df_zero_ndsi = df\n",
    "#     df_zero_ndsi = df_zero_ndsi.dropna()\n",
    "#     df_zero_ndsi = df_zero_ndsi[df_zero_ndsi['Month'] == month_number]\n",
    "#     df_zero_ndsi = df_zero_ndsi[df_zero_ndsi['Year'].isin([i])]\n",
    "    \n",
    "#     number_of_na = (calendar.monthrange(i, month_number)[1]*140) - len(df_zero_ndsi)\n",
    "#     nan_count_array.append(number_of_na)\n",
    "    \n",
    "#     # total_len_array.append(len(df_zero_ndsi))\n",
    "\n",
    "    \n",
    "#     df_zero_ndsi['check'] = np.where((df_zero_ndsi['ndsi'] >= -0.005) & (df_zero_ndsi['ndsi'] <= 0.005), 1, 0)\n",
    "#     df_zero_ndsi['check2'] = np.where((df_zero_ndsi['ndsi'] > 0.005) & (df_zero_ndsi['ndsi'] <= 0.015), 1, 0)\n",
    "#     # df_zero_ndsi = df_zero_ndsi[df_zero_ndsi['ndsi'] != 105]\n",
    "\n",
    "    \n",
    "#     number_of_zero = df_zero_ndsi['check'].sum()\n",
    "#     number_of_more_than_zero = df_zero_ndsi['check2'].sum()\n",
    "\n",
    "#     zero_array.append(number_of_zero)\n",
    "#     more_than_zero_array.append(number_of_more_than_zero)\n",
    "\n",
    "#     # df_zero_ndsi = df_zero_ndsi[df_zero_ndsi['check2'] == 1]\n",
    "#     # df_zero_ndsi = df_zero_ndsi[~df_zero_ndsi['Month'].isin([1, 2, 3, 4, 11, 12])]\n",
    "\n",
    "# # df_zero_ndsi= df_zero_ndsi.drop([\"Month\", \"check\"],axis =1)\n",
    "# # df = df_zero_ndsi \n",
    "    \n",
    "# df_zero_ndsi"
   ]
  },
  {
   "cell_type": "code",
   "execution_count": null,
   "metadata": {},
   "outputs": [],
   "source": [
    "dict_temp = {\n",
    "    f\"Year {calendar.month_name[month_number]}\": year_array,\n",
    "    \"Number of zeroes\": zero_array,\n",
    "    \"Slightly more than zeroes\": more_than_zero_array,\n",
    "    # \"Total rows\": total_len_array,\n",
    "    \"Number of NaNs\": nan_count_array\n",
    "}\n",
    "\n",
    "# Create the DataFrame\n",
    "zero_analysis_df = pd.DataFrame(dict_temp)\n",
    "zero_analysis_df"
   ]
  },
  {
   "cell_type": "code",
   "execution_count": null,
   "metadata": {},
   "outputs": [],
   "source": [
    "\n",
    "# Create an interactive histogram using Plotly\n",
    "fig = px.histogram(df_zero_ndsi, x=['ndsi'] , nbins=100)\n",
    "\n",
    "# Update layout for better visibility (optional)\n",
    "fig.update_layout(title=f'{calendar.month_name[month_number]}',\n",
    "                  xaxis_title='Value',\n",
    "                  yaxis_title='Frequency')"
   ]
  },
  {
   "cell_type": "code",
   "execution_count": null,
   "metadata": {},
   "outputs": [],
   "source": [
    "import matplotlib.pyplot as plt\n",
    "\n",
    "# Grouping by Latitude and Longitude, calculating the average 'ndsi' for each group\n",
    "avg_ndsi = df_zero_ndsi.groupby(['Latitude', 'Longitude'])['ndsi'].mean().reset_index()\n",
    "\n",
    "# Creating a grid for latitude and longitude\n",
    "latitudes = avg_ndsi['Latitude'].unique()\n",
    "longitudes = avg_ndsi['Longitude'].unique()\n",
    "grid_ndsi = np.zeros((len(latitudes), len(longitudes)))\n",
    "\n",
    "# Filling the grid with average 'ndsi' values\n",
    "for index, row in avg_ndsi.iterrows():\n",
    "    lat_idx = np.where(latitudes == row['Latitude'])[0][0]\n",
    "    lon_idx = np.where(longitudes == row['Longitude'])[0][0]\n",
    "    grid_ndsi[lat_idx, lon_idx] = row['ndsi']\n",
    "\n",
    "# Plotting the grid data\n",
    "plt.figure(figsize=(8, 6))\n",
    "plt.imshow(grid_ndsi, extent=[longitudes.min(), longitudes.max(), latitudes.min(), latitudes.max()])\n",
    "plt.colorbar(label='Average NDSI')\n",
    "plt.xlabel('Longitude')\n",
    "plt.ylabel('Latitude')\n",
    "plt.title(f'Average NDSI across Latitude and Longitude for {calendar.month_name[month_number]} of {year}')\n",
    "\n",
    "plt.show()\n"
   ]
  },
  {
   "cell_type": "code",
   "execution_count": null,
   "metadata": {},
   "outputs": [],
   "source": [
    "# Create an interactive histogram using Plotly\n",
    "fig = px.histogram(df_zero_ndsi, x='Month', nbins=100)\n",
    "\n",
    "# Update layout for better visibility (optional)\n",
    "fig.update_layout(title='Number of zero NDSI values vs the number of month',\n",
    "                  xaxis_title='Month',\n",
    "                  yaxis_title='Number of zero NDSI')"
   ]
  },
  {
   "cell_type": "code",
   "execution_count": null,
   "metadata": {},
   "outputs": [],
   "source": [
    "# fig = px.scatter(df, x=\"Date\" , y=[\"ndsi\"])\n",
    "# fig"
   ]
  },
  {
   "cell_type": "code",
   "execution_count": null,
   "metadata": {},
   "outputs": [],
   "source": []
  }
 ],
 "metadata": {
  "kernelspec": {
   "display_name": "Python 3 (ipykernel)",
   "language": "python",
   "name": "python3"
  },
  "language_info": {
   "codemirror_mode": {
    "name": "ipython",
    "version": 3
   },
   "file_extension": ".py",
   "mimetype": "text/x-python",
   "name": "python",
   "nbconvert_exporter": "python",
   "pygments_lexer": "ipython3",
   "version": "3.9.18"
  }
 },
 "nbformat": 4,
 "nbformat_minor": 4
}
